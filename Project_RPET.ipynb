{
 "cells": [
  {
   "cell_type": "markdown",
   "source": "# RPET Project",
   "metadata": {
    "tags": [],
    "is_collapsed": false,
    "cell_id": "00000-537b020a-6dec-42bc-832c-30fb46fa9dc0",
    "deepnote_cell_type": "text-cell-h1"
   }
  },
  {
   "cell_type": "markdown",
   "source": "## Hypothesis Testing &amp; Correlation of CGPA and CGPA w Internships Respectively",
   "metadata": {
    "tags": [],
    "is_collapsed": false,
    "cell_id": "00001-3673f198-c5b3-4ad4-9607-56327453d141",
    "deepnote_cell_type": "text-cell-h2"
   }
  },
  {
   "cell_type": "markdown",
   "source": "### BY - \n\n#### BRSHANK NEGI  (I032)\n \n#### HANSIN PATWA  (I040)\n\n#### YAASHIE SABLA (I052)",
   "metadata": {
    "tags": [],
    "cell_id": "00001-821a50eb-b28d-43ed-baa2-bba8d23a7cf6",
    "deepnote_cell_type": "markdown"
   }
  },
  {
   "cell_type": "code",
   "metadata": {
    "tags": [],
    "cell_id": "00002-870e7f16-a16f-4c83-9c83-9a39378c7f10",
    "deepnote_to_be_reexecuted": false,
    "source_hash": "7b2957b6",
    "execution_start": 1634362436123,
    "execution_millis": 1687,
    "deepnote_cell_type": "code"
   },
   "source": "import scipy.stats as st\nimport math\nimport pandas as pd\nimport numpy as np\nimport matplotlib.pyplot as plt\nimport seaborn as sns\n%matplotlib inline",
   "execution_count": 1,
   "outputs": []
  },
  {
   "cell_type": "markdown",
   "source": "# Data Set",
   "metadata": {
    "tags": [],
    "is_collapsed": false,
    "cell_id": "00004-8e5bdf0d-c0ee-41c8-9ee9-4fe36a36cc74",
    "deepnote_cell_type": "text-cell-h1"
   }
  },
  {
   "cell_type": "code",
   "metadata": {
    "tags": [],
    "cell_id": "00003-2ea1de02-8f5d-4dc2-bfa1-2858f3d7b92a",
    "deepnote_to_be_reexecuted": false,
    "source_hash": "89cc6c93",
    "execution_start": 1634362437814,
    "execution_millis": 53,
    "deepnote_cell_type": "code"
   },
   "source": "#defining data set \ndata=pd.read_csv('collegePlace.csv')\ndata.head()",
   "execution_count": 2,
   "outputs": [
    {
     "output_type": "execute_result",
     "execution_count": 2,
     "data": {
      "application/vnd.deepnote.dataframe.v2+json": {
       "row_count": 5,
       "column_count": 8,
       "columns": [
        {
         "name": "Age",
         "dtype": "int64",
         "stats": {
          "unique_count": 2,
          "nan_count": 0,
          "min": "21",
          "max": "22",
          "histogram": [
           {
            "bin_start": 21,
            "bin_end": 21.1,
            "count": 2
           },
           {
            "bin_start": 21.1,
            "bin_end": 21.2,
            "count": 0
           },
           {
            "bin_start": 21.2,
            "bin_end": 21.3,
            "count": 0
           },
           {
            "bin_start": 21.3,
            "bin_end": 21.4,
            "count": 0
           },
           {
            "bin_start": 21.4,
            "bin_end": 21.5,
            "count": 0
           },
           {
            "bin_start": 21.5,
            "bin_end": 21.6,
            "count": 0
           },
           {
            "bin_start": 21.6,
            "bin_end": 21.7,
            "count": 0
           },
           {
            "bin_start": 21.7,
            "bin_end": 21.8,
            "count": 0
           },
           {
            "bin_start": 21.8,
            "bin_end": 21.9,
            "count": 0
           },
           {
            "bin_start": 21.9,
            "bin_end": 22,
            "count": 3
           }
          ]
         }
        },
        {
         "name": "Gender",
         "dtype": "object",
         "stats": {
          "unique_count": 2,
          "nan_count": 0,
          "categories": [
           {
            "name": "Male",
            "count": 3
           },
           {
            "name": "Female",
            "count": 2
           }
          ]
         }
        },
        {
         "name": "Stream",
         "dtype": "object",
         "stats": {
          "unique_count": 4,
          "nan_count": 0,
          "categories": [
           {
            "name": "Information Technology",
            "count": 2
           },
           {
            "name": "Electronics And Communication",
            "count": 1
           },
           {
            "name": "2 others",
            "count": 2
           }
          ]
         }
        },
        {
         "name": "Internships",
         "dtype": "int64",
         "stats": {
          "unique_count": 2,
          "nan_count": 0,
          "min": "0",
          "max": "1",
          "histogram": [
           {
            "bin_start": 0,
            "bin_end": 0.1,
            "count": 3
           },
           {
            "bin_start": 0.1,
            "bin_end": 0.2,
            "count": 0
           },
           {
            "bin_start": 0.2,
            "bin_end": 0.30000000000000004,
            "count": 0
           },
           {
            "bin_start": 0.30000000000000004,
            "bin_end": 0.4,
            "count": 0
           },
           {
            "bin_start": 0.4,
            "bin_end": 0.5,
            "count": 0
           },
           {
            "bin_start": 0.5,
            "bin_end": 0.6000000000000001,
            "count": 0
           },
           {
            "bin_start": 0.6000000000000001,
            "bin_end": 0.7000000000000001,
            "count": 0
           },
           {
            "bin_start": 0.7000000000000001,
            "bin_end": 0.8,
            "count": 0
           },
           {
            "bin_start": 0.8,
            "bin_end": 0.9,
            "count": 0
           },
           {
            "bin_start": 0.9,
            "bin_end": 1,
            "count": 2
           }
          ]
         }
        },
        {
         "name": "CGPA",
         "dtype": "int64",
         "stats": {
          "unique_count": 3,
          "nan_count": 0,
          "min": "6",
          "max": "8",
          "histogram": [
           {
            "bin_start": 6,
            "bin_end": 6.2,
            "count": 1
           },
           {
            "bin_start": 6.2,
            "bin_end": 6.4,
            "count": 0
           },
           {
            "bin_start": 6.4,
            "bin_end": 6.6,
            "count": 0
           },
           {
            "bin_start": 6.6,
            "bin_end": 6.8,
            "count": 0
           },
           {
            "bin_start": 6.8,
            "bin_end": 7,
            "count": 0
           },
           {
            "bin_start": 7,
            "bin_end": 7.2,
            "count": 1
           },
           {
            "bin_start": 7.2,
            "bin_end": 7.4,
            "count": 0
           },
           {
            "bin_start": 7.4,
            "bin_end": 7.6,
            "count": 0
           },
           {
            "bin_start": 7.6,
            "bin_end": 7.8,
            "count": 0
           },
           {
            "bin_start": 7.8,
            "bin_end": 8,
            "count": 3
           }
          ]
         }
        },
        {
         "name": "Hostel",
         "dtype": "int64",
         "stats": {
          "unique_count": 2,
          "nan_count": 0,
          "min": "0",
          "max": "1",
          "histogram": [
           {
            "bin_start": 0,
            "bin_end": 0.1,
            "count": 2
           },
           {
            "bin_start": 0.1,
            "bin_end": 0.2,
            "count": 0
           },
           {
            "bin_start": 0.2,
            "bin_end": 0.30000000000000004,
            "count": 0
           },
           {
            "bin_start": 0.30000000000000004,
            "bin_end": 0.4,
            "count": 0
           },
           {
            "bin_start": 0.4,
            "bin_end": 0.5,
            "count": 0
           },
           {
            "bin_start": 0.5,
            "bin_end": 0.6000000000000001,
            "count": 0
           },
           {
            "bin_start": 0.6000000000000001,
            "bin_end": 0.7000000000000001,
            "count": 0
           },
           {
            "bin_start": 0.7000000000000001,
            "bin_end": 0.8,
            "count": 0
           },
           {
            "bin_start": 0.8,
            "bin_end": 0.9,
            "count": 0
           },
           {
            "bin_start": 0.9,
            "bin_end": 1,
            "count": 3
           }
          ]
         }
        },
        {
         "name": "HistoryOfBacklogs",
         "dtype": "int64",
         "stats": {
          "unique_count": 2,
          "nan_count": 0,
          "min": "0",
          "max": "1",
          "histogram": [
           {
            "bin_start": 0,
            "bin_end": 0.1,
            "count": 2
           },
           {
            "bin_start": 0.1,
            "bin_end": 0.2,
            "count": 0
           },
           {
            "bin_start": 0.2,
            "bin_end": 0.30000000000000004,
            "count": 0
           },
           {
            "bin_start": 0.30000000000000004,
            "bin_end": 0.4,
            "count": 0
           },
           {
            "bin_start": 0.4,
            "bin_end": 0.5,
            "count": 0
           },
           {
            "bin_start": 0.5,
            "bin_end": 0.6000000000000001,
            "count": 0
           },
           {
            "bin_start": 0.6000000000000001,
            "bin_end": 0.7000000000000001,
            "count": 0
           },
           {
            "bin_start": 0.7000000000000001,
            "bin_end": 0.8,
            "count": 0
           },
           {
            "bin_start": 0.8,
            "bin_end": 0.9,
            "count": 0
           },
           {
            "bin_start": 0.9,
            "bin_end": 1,
            "count": 3
           }
          ]
         }
        },
        {
         "name": "PlacedOrNot",
         "dtype": "int64",
         "stats": {
          "unique_count": 1,
          "nan_count": 0,
          "min": "1",
          "max": "1",
          "histogram": [
           {
            "bin_start": 0.5,
            "bin_end": 0.6,
            "count": 0
           },
           {
            "bin_start": 0.6,
            "bin_end": 0.7,
            "count": 0
           },
           {
            "bin_start": 0.7,
            "bin_end": 0.8,
            "count": 0
           },
           {
            "bin_start": 0.8,
            "bin_end": 0.9,
            "count": 0
           },
           {
            "bin_start": 0.9,
            "bin_end": 1,
            "count": 0
           },
           {
            "bin_start": 1,
            "bin_end": 1.1,
            "count": 5
           },
           {
            "bin_start": 1.1,
            "bin_end": 1.2000000000000002,
            "count": 0
           },
           {
            "bin_start": 1.2000000000000002,
            "bin_end": 1.3,
            "count": 0
           },
           {
            "bin_start": 1.3,
            "bin_end": 1.4,
            "count": 0
           },
           {
            "bin_start": 1.4,
            "bin_end": 1.5,
            "count": 0
           }
          ]
         }
        },
        {
         "name": "_deepnote_index_column",
         "dtype": "int64"
        }
       ],
       "rows_top": [
        {
         "Age": 22,
         "Gender": "Male",
         "Stream": "Electronics And Communication",
         "Internships": 1,
         "CGPA": 8,
         "Hostel": 1,
         "HistoryOfBacklogs": 1,
         "PlacedOrNot": 1,
         "_deepnote_index_column": 0
        },
        {
         "Age": 21,
         "Gender": "Female",
         "Stream": "Computer Science",
         "Internships": 0,
         "CGPA": 7,
         "Hostel": 1,
         "HistoryOfBacklogs": 1,
         "PlacedOrNot": 1,
         "_deepnote_index_column": 1
        },
        {
         "Age": 22,
         "Gender": "Female",
         "Stream": "Information Technology",
         "Internships": 1,
         "CGPA": 6,
         "Hostel": 0,
         "HistoryOfBacklogs": 0,
         "PlacedOrNot": 1,
         "_deepnote_index_column": 2
        },
        {
         "Age": 21,
         "Gender": "Male",
         "Stream": "Information Technology",
         "Internships": 0,
         "CGPA": 8,
         "Hostel": 0,
         "HistoryOfBacklogs": 1,
         "PlacedOrNot": 1,
         "_deepnote_index_column": 3
        },
        {
         "Age": 22,
         "Gender": "Male",
         "Stream": "Mechanical",
         "Internships": 0,
         "CGPA": 8,
         "Hostel": 1,
         "HistoryOfBacklogs": 0,
         "PlacedOrNot": 1,
         "_deepnote_index_column": 4
        }
       ],
       "rows_bottom": null
      },
      "text/plain": "   Age  Gender                         Stream  Internships  CGPA  Hostel  \\\n0   22    Male  Electronics And Communication            1     8       1   \n1   21  Female               Computer Science            0     7       1   \n2   22  Female         Information Technology            1     6       0   \n3   21    Male         Information Technology            0     8       0   \n4   22    Male                     Mechanical            0     8       1   \n\n   HistoryOfBacklogs  PlacedOrNot  \n0                  1            1  \n1                  1            1  \n2                  0            1  \n3                  1            1  \n4                  0            1  ",
      "text/html": "<div>\n<style scoped>\n    .dataframe tbody tr th:only-of-type {\n        vertical-align: middle;\n    }\n\n    .dataframe tbody tr th {\n        vertical-align: top;\n    }\n\n    .dataframe thead th {\n        text-align: right;\n    }\n</style>\n<table border=\"1\" class=\"dataframe\">\n  <thead>\n    <tr style=\"text-align: right;\">\n      <th></th>\n      <th>Age</th>\n      <th>Gender</th>\n      <th>Stream</th>\n      <th>Internships</th>\n      <th>CGPA</th>\n      <th>Hostel</th>\n      <th>HistoryOfBacklogs</th>\n      <th>PlacedOrNot</th>\n    </tr>\n  </thead>\n  <tbody>\n    <tr>\n      <th>0</th>\n      <td>22</td>\n      <td>Male</td>\n      <td>Electronics And Communication</td>\n      <td>1</td>\n      <td>8</td>\n      <td>1</td>\n      <td>1</td>\n      <td>1</td>\n    </tr>\n    <tr>\n      <th>1</th>\n      <td>21</td>\n      <td>Female</td>\n      <td>Computer Science</td>\n      <td>0</td>\n      <td>7</td>\n      <td>1</td>\n      <td>1</td>\n      <td>1</td>\n    </tr>\n    <tr>\n      <th>2</th>\n      <td>22</td>\n      <td>Female</td>\n      <td>Information Technology</td>\n      <td>1</td>\n      <td>6</td>\n      <td>0</td>\n      <td>0</td>\n      <td>1</td>\n    </tr>\n    <tr>\n      <th>3</th>\n      <td>21</td>\n      <td>Male</td>\n      <td>Information Technology</td>\n      <td>0</td>\n      <td>8</td>\n      <td>0</td>\n      <td>1</td>\n      <td>1</td>\n    </tr>\n    <tr>\n      <th>4</th>\n      <td>22</td>\n      <td>Male</td>\n      <td>Mechanical</td>\n      <td>0</td>\n      <td>8</td>\n      <td>1</td>\n      <td>0</td>\n      <td>1</td>\n    </tr>\n  </tbody>\n</table>\n</div>"
     },
     "metadata": {}
    }
   ]
  },
  {
   "cell_type": "code",
   "source": "",
   "metadata": {
    "cell_id": "00006-07f7897d-3a37-4b6b-88c6-cc8a59c67dc6",
    "deepnote_cell_type": "visualization"
   },
   "outputs": [],
   "execution_count": null
  },
  {
   "cell_type": "markdown",
   "source": "# Correlation between&nbsp;'CGPA&nbsp;'and&nbsp;'Internship'",
   "metadata": {
    "tags": [],
    "is_collapsed": false,
    "cell_id": "00006-6a139b2a-71bf-46e6-b6df-f3541bdb5945",
    "deepnote_cell_type": "text-cell-h1"
   }
  },
  {
   "cell_type": "markdown",
   "source": "### Problem Statement: How does Internships affect academic results(CGPA) ?",
   "metadata": {
    "tags": [],
    "is_collapsed": false,
    "cell_id": "00006-ab1bcf47-319c-4e71-85e7-609c9fe0b286",
    "deepnote_cell_type": "text-cell-h3"
   }
  },
  {
   "cell_type": "code",
   "metadata": {
    "tags": [],
    "cell_id": "00004-59477561-c15f-449f-9ae2-f131eefe50b8",
    "deepnote_to_be_reexecuted": false,
    "source_hash": "7e4d4a2e",
    "execution_start": 1634362437868,
    "execution_millis": 2,
    "deepnote_cell_type": "code"
   },
   "source": "#we used correlation to describe the linear relationship between two our 2 variables\nCGPA=data[\"CGPA\"]\nInternship=data[\"Internships\"]",
   "execution_count": 3,
   "outputs": []
  },
  {
   "cell_type": "code",
   "metadata": {
    "tags": [],
    "cell_id": "00004-26c6e560-f774-4025-8aa3-19d927baa922",
    "deepnote_to_be_reexecuted": false,
    "source_hash": "74a28d0",
    "execution_start": 1634362437919,
    "execution_millis": 2,
    "deepnote_cell_type": "code"
   },
   "source": "\nprint('CGPA: mean=%.3f stdv=%.3f' % (np.mean(CGPA), np.std(CGPA)))\nprint('Internships: mean=%.3f stdv=%.3f' % (np.mean(Internship), np.std(Internship)))\n\n",
   "execution_count": 4,
   "outputs": [
    {
     "name": "stdout",
     "text": "CGPA: mean=7.074 stdv=0.968\nInternships: mean=0.704 stdv=0.740\n",
     "output_type": "stream"
    }
   ]
  },
  {
   "cell_type": "code",
   "metadata": {
    "tags": [],
    "cell_id": "00006-311dab5d-d9f4-4557-89d7-d142994d06a8",
    "deepnote_to_be_reexecuted": false,
    "source_hash": "a005e0ab",
    "execution_start": 1634366798031,
    "execution_millis": 690,
    "deepnote_cell_type": "code"
   },
   "source": "plt.figure(figsize=(15,8))\nsns.scatterplot(data['CGPA'],data['Internships'])",
   "execution_count": 21,
   "outputs": [
    {
     "name": "stderr",
     "text": "/shared-libs/python3.9/py/lib/python3.9/site-packages/seaborn/_decorators.py:36: FutureWarning: Pass the following variables as keyword args: x, y. From version 0.12, the only valid positional argument will be `data`, and passing other arguments without an explicit keyword will result in an error or misinterpretation.\n  warnings.warn(\n",
     "output_type": "stream"
    },
    {
     "output_type": "execute_result",
     "execution_count": 21,
     "data": {
      "text/plain": "<AxesSubplot:xlabel='CGPA', ylabel='Internships'>"
     },
     "metadata": {}
    },
    {
     "data": {
      "text/plain": "<Figure size 1080x576 with 1 Axes>",
      "image/png": "[encoded data removed]"
     },
     "metadata": {
      "needs_background": "light",
      "image/png": {
       "width": 888,
       "height": 480
      }
     },
     "output_type": "display_data"
    }
   ]
  },
  {
   "cell_type": "code",
   "metadata": {
    "tags": [],
    "cell_id": "00007-6decff7b-9481-4f4b-8202-d3ef8195c619",
    "deepnote_to_be_reexecuted": false,
    "source_hash": "d6e2c3df",
    "execution_start": 1634367120185,
    "execution_millis": 26,
    "deepnote_cell_type": "code"
   },
   "source": "corr, _ = st.pearsonr(CGPA, Internship)#calculating correlation \nprint('Pearsons correlation:', corr)",
   "execution_count": 28,
   "outputs": [
    {
     "name": "stdout",
     "text": "Pearsons correlation: 0.02349569372705741\n",
     "output_type": "stream"
    }
   ]
  },
  {
   "cell_type": "markdown",
   "source": "As we can see that the correlation coefficient value is 0.0234. We can conclude from this that the doing internships have almost negligible effect. This can be proven by the fact that the value is very close to 0. But since the value is positive we can say that with the increase in the number of internships we have a greater chance of getting a higher score though  the effect is not way to apparent.",
   "metadata": {
    "tags": [],
    "is_collapsed": false,
    "cell_id": "00008-b7907011-4a81-46e2-8cf6-bd297ace2726",
    "deepnote_cell_type": "text-cell-p"
   }
  },
  {
   "cell_type": "markdown",
   "source": "# Is&nbsp;there&nbsp;any&nbsp;relationship&nbsp;between&nbsp;'CGPA&nbsp;'and&nbsp;'Internship' =&gt;testingthereln",
   "metadata": {
    "tags": [],
    "is_collapsed": false,
    "cell_id": "00012-7edcb9b4-fcf8-4f96-ab63-b55768fd594d",
    "deepnote_cell_type": "text-cell-h1"
   }
  },
  {
   "cell_type": "markdown",
   "source": "\n\n### H0 : There is no relationship\n\n### Ha : There is relationship\n\n#### if p < 0.05 , then we reject NULL, There is relationship between CGPA and INTERNSHIP\n\n#### else, we fail to reject NULL Hypothesis.",
   "metadata": {
    "tags": [],
    "cell_id": "00011-b01a7c51-fff5-4336-a901-68eb6b17599c",
    "deepnote_cell_type": "markdown"
   }
  },
  {
   "cell_type": "code",
   "metadata": {
    "tags": [],
    "cell_id": "00011-f558f0f4-f0f1-4342-b010-f0efa0ac8b8f",
    "deepnote_to_be_reexecuted": false,
    "source_hash": "2659148b",
    "execution_start": 1634362438187,
    "execution_millis": 0,
    "deepnote_cell_type": "code"
   },
   "source": "print(np.corrcoef(CGPA, Internship))",
   "execution_count": 7,
   "outputs": [
    {
     "name": "stdout",
     "text": "[[1.         0.02349569]\n [0.02349569 1.        ]]\n",
     "output_type": "stream"
    }
   ]
  },
  {
   "cell_type": "code",
   "metadata": {
    "tags": [],
    "cell_id": "00012-75abded2-4e45-48f8-976b-f7fc2a8a13f7",
    "deepnote_to_be_reexecuted": false,
    "source_hash": "5df5a902",
    "execution_start": 1634367066858,
    "execution_millis": 74,
    "deepnote_cell_type": "code"
   },
   "source": "print(st.pearsonr(CGPA, Internship))",
   "execution_count": 27,
   "outputs": [
    {
     "name": "stdout",
     "text": "(0.02349569372705741, 0.2008139395441027)\n",
     "output_type": "stream"
    }
   ]
  },
  {
   "cell_type": "markdown",
   "source": "#### Since p value(0.2008) is less than 0.05 we reject the NULL hypothesis. Hence, there is a relationship. Moreover, Correlation talks about the linear relationship between the variables. That means if one is changing the other is also changing",
   "metadata": {
    "tags": [],
    "cell_id": "00015-2793c79c-636a-4125-8ba8-ca66a0368b16",
    "deepnote_cell_type": "markdown"
   }
  },
  {
   "cell_type": "markdown",
   "source": "# Hypothesis Testing",
   "metadata": {
    "tags": [],
    "is_collapsed": false,
    "cell_id": "00018-6874c144-fc7a-47d5-95e8-a8e29d417777",
    "deepnote_cell_type": "text-cell-h1"
   }
  },
  {
   "cell_type": "markdown",
   "source": "### H0=Mean of students CGPA is 7.07 \n### H1=Mean of students CGPA is NOTEQUAL to 7.07",
   "metadata": {
    "tags": [],
    "cell_id": "00020-a19ae2b9-364f-433e-8c32-8c56e8fee38a",
    "deepnote_cell_type": "markdown"
   }
  },
  {
   "cell_type": "markdown",
   "source": "#### From the not equal to sign, this is a 2 tailed test",
   "metadata": {
    "tags": [],
    "cell_id": "00021-2c559ecc-ee7a-4187-965c-95156642ac32",
    "deepnote_cell_type": "markdown"
   }
  },
  {
   "cell_type": "markdown",
   "source": "### value of $z$ at .05 making it .025 for 2 sided we know from $z table$ $\\underline{+}$1.96",
   "metadata": {
    "tags": [],
    "cell_id": "00020-b81e8d51-9016-42df-9907-bf00f68b8fab",
    "deepnote_cell_type": "markdown"
   }
  },
  {
   "cell_type": "markdown",
   "source": "## H0=>  μ=7.07\n## H1=>  μ!=7.07",
   "metadata": {
    "tags": [],
    "cell_id": "00015-d0fef999-4853-4991-8c42-28dac81c5d06",
    "deepnote_cell_type": "markdown"
   }
  },
  {
   "cell_type": "code",
   "source": "from scipy.stats import norm\nax = sns.distplot(CGPA, fit=norm, kde=False,color='royalblue')",
   "metadata": {
    "tags": [],
    "cell_id": "00023-73fc54af-9a14-472e-a45c-dec1d76338e0",
    "deepnote_to_be_reexecuted": false,
    "source_hash": "898ec451",
    "execution_start": 1634366948752,
    "execution_millis": 256,
    "deepnote_cell_type": "code"
   },
   "outputs": [
    {
     "name": "stderr",
     "text": "/shared-libs/python3.9/py/lib/python3.9/site-packages/seaborn/distributions.py:2619: FutureWarning: `distplot` is a deprecated function and will be removed in a future version. Please adapt your code to use either `displot` (a figure-level function with similar flexibility) or `histplot` (an axes-level function for histograms).\n  warnings.warn(msg, FutureWarning)\n",
     "output_type": "stream"
    },
    {
     "data": {
      "text/plain": "<Figure size 432x288 with 1 Axes>",
      "image/png": "[encoded data removed]"
     },
     "metadata": {
      "needs_background": "light",
      "image/png": {
       "width": 372,
       "height": 262
      }
     },
     "output_type": "display_data"
    }
   ],
   "execution_count": 26
  },
  {
   "cell_type": "code",
   "metadata": {
    "tags": [],
    "cell_id": "00016-ffd19c1f-e223-4be4-be7a-4a3cb53bfd60",
    "deepnote_to_be_reexecuted": false,
    "source_hash": "63026a44",
    "execution_start": 1634362438189,
    "execution_millis": 30740474,
    "deepnote_cell_type": "code"
   },
   "source": "sampData=data['CGPA']",
   "execution_count": 9,
   "outputs": []
  },
  {
   "cell_type": "code",
   "metadata": {
    "tags": [],
    "cell_id": "00015-b872a47a-ea30-4d43-9225-e72ee3c6a55d",
    "deepnote_to_be_reexecuted": false,
    "source_hash": "2584b708",
    "execution_start": 1634362438192,
    "execution_millis": 30740475,
    "deepnote_cell_type": "code"
   },
   "source": "sampData.mean()",
   "execution_count": 10,
   "outputs": [
    {
     "output_type": "execute_result",
     "execution_count": 10,
     "data": {
      "text/plain": "7.073836817262306"
     },
     "metadata": {}
    }
   ]
  },
  {
   "cell_type": "markdown",
   "source": "## Mathematically we found that CGPA mean = 7.07 so now, We will be statistically testing thisby the Hypothesis Testing. ",
   "metadata": {
    "tags": [],
    "cell_id": "00027-b557d8ba-045e-4bf4-91db-9527a3c6a205",
    "deepnote_cell_type": "markdown"
   }
  },
  {
   "cell_type": "code",
   "metadata": {
    "tags": [],
    "cell_id": "00018-c9ced0b0-7e65-459b-9898-4752e16c2861",
    "deepnote_to_be_reexecuted": false,
    "source_hash": "90aac60b",
    "execution_start": 1634362438238,
    "execution_millis": 15740822,
    "deepnote_cell_type": "code"
   },
   "source": "cgpa=data.sort_values(\"CGPA\")[\"CGPA\"]  #sort cgpa values \nmeanSampData=sampData.mean()           #mean of the sample Data\nhypMean=7.07                           #Hypothetical Mean \nN=len(CGPA)                   \nstandPop=np.std(data['CGPA']) ",
   "execution_count": 11,
   "outputs": []
  },
  {
   "cell_type": "code",
   "metadata": {
    "tags": [],
    "cell_id": "00019-385be89e-6b50-47cf-a548-267a4482c748",
    "deepnote_to_be_reexecuted": false,
    "source_hash": "75d044b7",
    "execution_start": 1634367283954,
    "execution_millis": 7,
    "deepnote_cell_type": "code"
   },
   "source": "Z=(meanSampData-hypMean)/(standPop/math.sqrt(N))\nprint('Z score is==',np.round(Z,decimals=3))",
   "execution_count": 33,
   "outputs": [
    {
     "name": "stdout",
     "text": "Z score is== 0.216\n",
     "output_type": "stream"
    }
   ]
  },
  {
   "cell_type": "markdown",
   "source": "### As our Z-score is 0.216",
   "metadata": {
    "tags": [],
    "is_collapsed": false,
    "cell_id": "00027-260573c0-17e0-4671-ae35-b87853ba1c8f",
    "deepnote_cell_type": "text-cell-h3"
   }
  },
  {
   "cell_type": "markdown",
   "source": "### Critical region:taking95% confidence  ==&gt; (-∞, -1.960] ∪ [1.960, +∞)",
   "metadata": {
    "tags": [],
    "is_collapsed": false,
    "cell_id": "00027-5f7a6082-11fd-4b64-ab6d-dacb4ad06df0",
    "deepnote_cell_type": "text-cell-h3"
   }
  },
  {
   "cell_type": "markdown",
   "source": "### Decision: Our Z-score doesn't belong to the critical region, so&nbsp;we accept H₀ and reject H₁.",
   "metadata": {
    "tags": [],
    "is_collapsed": false,
    "cell_id": "00028-e2ca5a75-2ec8-4653-9bf9-5292d06d31f5",
    "deepnote_cell_type": "text-cell-h3"
   }
  },
  {
   "cell_type": "markdown",
   "source": "# CONCLUSION&nbsp;-&nbsp;",
   "metadata": {
    "tags": [],
    "is_collapsed": false,
    "cell_id": "00031-df9c5feb-12bc-4621-82b6-65fe49ad6240",
    "deepnote_cell_type": "text-cell-h1"
   }
  },
  {
   "cell_type": "markdown",
   "source": "### Hence we found the correlation (between CGPA and Internships)\n#### we further verify our result using the T test and finding the 2 tailed P value and prove our hypothesis that CGPA and Internship are correlated no matter how negligible it may be\n### and Hypothesis testing of whether the mean of student's CGPA  is 7.07 or not .",
   "metadata": {
    "tags": [],
    "cell_id": "00032-610b7013-a61a-4ba1-884c-b05885cf22c4",
    "deepnote_cell_type": "markdown"
   }
  },
  {
   "cell_type": "markdown",
   "source": "<a style='text-decoration:none;line-height:16px;display:flex;color:#5B5B62;padding:10px;justify-content:end;' href='https://deepnote.com?utm_source=created-in-deepnote-cell&projectId=b709322b-0919-4011-8ac3-caa5502e64ba' target=\"_blank\">\n<img alt='Created in deepnote.com' style='display:inline;max-height:16px;margin:0px;margin-right:7.5px;' src='data:image/svg+xml;base64,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' > </img>\nCreated in <span style='font-weight:600;margin-left:4px;'>Deepnote</span></a>",
   "metadata": {
    "tags": [],
    "created_in_deepnote_cell": true,
    "deepnote_cell_type": "markdown"
   }
  }
 ],
 "nbformat": 4,
 "nbformat_minor": 2,
 "metadata": {
  "orig_nbformat": 2,
  "deepnote": {
   "is_reactive": false
  },
  "deepnote_notebook_id": "1f266b93-543a-4715-863c-784ea6a7d70a",
  "deepnote_execution_queue": []
 }
}